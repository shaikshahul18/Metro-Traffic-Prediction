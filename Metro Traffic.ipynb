{
 "cells": [
  {
   "cell_type": "markdown",
   "metadata": {},
   "source": [
    "# IMPORTING THE REQUIRED LIBRARIES"
   ]
  },
  {
   "cell_type": "code",
   "execution_count": 1,
   "metadata": {},
   "outputs": [],
   "source": [
    "import numpy as np\n",
    "import pandas as pd\n",
    "import matplotlib.pyplot as plt\n",
    "import seaborn as sns\n",
    "from scipy.stats import f_oneway\n",
    "from sklearn.model_selection import train_test_split\n",
    "from sklearn.linear_model import LinearRegression\n",
    "lr = LinearRegression()\n",
    "import statsmodels.stats.api as sms\n",
    "from statsmodels.compat import lzip\n",
    "from statsmodels.stats import diagnostic as diag\n",
    "from statsmodels.stats.outliers_influence import variance_inflation_factor\n",
    "from sklearn.metrics import r2_score\n",
    "from sklearn.metrics import mean_squared_error\n",
    "from sklearn.tree import DecisionTreeRegressor\n",
    "dtr = DecisionTreeRegressor()\n",
    "from sklearn.tree import ExtraTreeRegressor\n",
    "etr = ExtraTreeRegressor()\n",
    "from sklearn.ensemble import RandomForestRegressor\n",
    "rfr = RandomForestRegressor()\n",
    "from sklearn.ensemble import AdaBoostRegressor\n",
    "abr = AdaBoostRegressor()\n",
    "from sklearn.ensemble import GradientBoostingRegressor\n",
    "gbr = GradientBoostingRegressor()\n",
    "from sklearn.ensemble import BaggingRegressor\n",
    "br = BaggingRegressor()\n",
    "from sklearn.ensemble import ExtraTreesRegressor\n",
    "eetr = ExtraTreesRegressor()\n",
    "from sklearn.model_selection import GridSearchCV\n",
    "import warnings\n",
    "warnings.filterwarnings('ignore')\n",
    "import statsmodels.api as sm\n",
    "from xgboost import XGBRegressor\n",
    "xg = XGBRegressor()"
   ]
  },
  {
   "cell_type": "code",
   "execution_count": 2,
   "metadata": {},
   "outputs": [
    {
     "data": {
      "text/html": [
       "<div>\n",
       "<style scoped>\n",
       "    .dataframe tbody tr th:only-of-type {\n",
       "        vertical-align: middle;\n",
       "    }\n",
       "\n",
       "    .dataframe tbody tr th {\n",
       "        vertical-align: top;\n",
       "    }\n",
       "\n",
       "    .dataframe thead th {\n",
       "        text-align: right;\n",
       "    }\n",
       "</style>\n",
       "<table border=\"1\" class=\"dataframe\">\n",
       "  <thead>\n",
       "    <tr style=\"text-align: right;\">\n",
       "      <th></th>\n",
       "      <th>Date and Time</th>\n",
       "      <th>Air Pollution Index</th>\n",
       "      <th>Humidity</th>\n",
       "      <th>Wind Speed</th>\n",
       "      <th>Wind Direction</th>\n",
       "      <th>Visibility (miles)</th>\n",
       "      <th>Dew Point</th>\n",
       "      <th>Temperature</th>\n",
       "      <th>Rain_p_h</th>\n",
       "      <th>Snow_p_h</th>\n",
       "      <th>Clouds_all</th>\n",
       "      <th>Weather Type</th>\n",
       "      <th>Weather Description</th>\n",
       "      <th>Traffic</th>\n",
       "    </tr>\n",
       "  </thead>\n",
       "  <tbody>\n",
       "    <tr>\n",
       "      <td>0</td>\n",
       "      <td>02-10-2012 09:00</td>\n",
       "      <td>121</td>\n",
       "      <td>89</td>\n",
       "      <td>2</td>\n",
       "      <td>329</td>\n",
       "      <td>1</td>\n",
       "      <td>1</td>\n",
       "      <td>288.28</td>\n",
       "      <td>0.0</td>\n",
       "      <td>0.0</td>\n",
       "      <td>40</td>\n",
       "      <td>Clouds</td>\n",
       "      <td>scattered clouds</td>\n",
       "      <td>5545</td>\n",
       "    </tr>\n",
       "    <tr>\n",
       "      <td>1</td>\n",
       "      <td>02-10-2012 10:00</td>\n",
       "      <td>178</td>\n",
       "      <td>67</td>\n",
       "      <td>3</td>\n",
       "      <td>330</td>\n",
       "      <td>1</td>\n",
       "      <td>1</td>\n",
       "      <td>289.36</td>\n",
       "      <td>0.0</td>\n",
       "      <td>0.0</td>\n",
       "      <td>75</td>\n",
       "      <td>Clouds</td>\n",
       "      <td>broken clouds</td>\n",
       "      <td>4516</td>\n",
       "    </tr>\n",
       "    <tr>\n",
       "      <td>2</td>\n",
       "      <td>02-10-2012 11:00</td>\n",
       "      <td>113</td>\n",
       "      <td>66</td>\n",
       "      <td>3</td>\n",
       "      <td>329</td>\n",
       "      <td>2</td>\n",
       "      <td>2</td>\n",
       "      <td>289.58</td>\n",
       "      <td>0.0</td>\n",
       "      <td>0.0</td>\n",
       "      <td>90</td>\n",
       "      <td>Clouds</td>\n",
       "      <td>overcast clouds</td>\n",
       "      <td>4767</td>\n",
       "    </tr>\n",
       "    <tr>\n",
       "      <td>3</td>\n",
       "      <td>02-10-2012 12:00</td>\n",
       "      <td>20</td>\n",
       "      <td>66</td>\n",
       "      <td>3</td>\n",
       "      <td>329</td>\n",
       "      <td>5</td>\n",
       "      <td>5</td>\n",
       "      <td>290.13</td>\n",
       "      <td>0.0</td>\n",
       "      <td>0.0</td>\n",
       "      <td>90</td>\n",
       "      <td>Clouds</td>\n",
       "      <td>overcast clouds</td>\n",
       "      <td>5026</td>\n",
       "    </tr>\n",
       "    <tr>\n",
       "      <td>4</td>\n",
       "      <td>02-10-2012 13:00</td>\n",
       "      <td>281</td>\n",
       "      <td>65</td>\n",
       "      <td>3</td>\n",
       "      <td>329</td>\n",
       "      <td>7</td>\n",
       "      <td>7</td>\n",
       "      <td>291.14</td>\n",
       "      <td>0.0</td>\n",
       "      <td>0.0</td>\n",
       "      <td>75</td>\n",
       "      <td>Clouds</td>\n",
       "      <td>broken clouds</td>\n",
       "      <td>4918</td>\n",
       "    </tr>\n",
       "  </tbody>\n",
       "</table>\n",
       "</div>"
      ],
      "text/plain": [
       "      Date and Time  Air Pollution Index  Humidity  Wind Speed  \\\n",
       "0  02-10-2012 09:00                  121        89           2   \n",
       "1  02-10-2012 10:00                  178        67           3   \n",
       "2  02-10-2012 11:00                  113        66           3   \n",
       "3  02-10-2012 12:00                   20        66           3   \n",
       "4  02-10-2012 13:00                  281        65           3   \n",
       "\n",
       "   Wind Direction  Visibility (miles)  Dew Point  Temperature  Rain_p_h  \\\n",
       "0             329                   1          1       288.28       0.0   \n",
       "1             330                   1          1       289.36       0.0   \n",
       "2             329                   2          2       289.58       0.0   \n",
       "3             329                   5          5       290.13       0.0   \n",
       "4             329                   7          7       291.14       0.0   \n",
       "\n",
       "   Snow_p_h  Clouds_all Weather Type Weather Description  Traffic  \n",
       "0       0.0          40       Clouds    scattered clouds     5545  \n",
       "1       0.0          75       Clouds       broken clouds     4516  \n",
       "2       0.0          90       Clouds     overcast clouds     4767  \n",
       "3       0.0          90       Clouds     overcast clouds     5026  \n",
       "4       0.0          75       Clouds       broken clouds     4918  "
      ]
     },
     "execution_count": 2,
     "metadata": {},
     "output_type": "execute_result"
    }
   ],
   "source": [
    "data = pd.read_csv('data.csv')\n",
    "data.head()"
   ]
  },
  {
   "cell_type": "markdown",
   "metadata": {},
   "source": [
    "# DATA DESCRIPTION"
   ]
  },
  {
   "cell_type": "code",
   "execution_count": 3,
   "metadata": {},
   "outputs": [
    {
     "data": {
      "text/html": [
       "<div>\n",
       "<style scoped>\n",
       "    .dataframe tbody tr th:only-of-type {\n",
       "        vertical-align: middle;\n",
       "    }\n",
       "\n",
       "    .dataframe tbody tr th {\n",
       "        vertical-align: top;\n",
       "    }\n",
       "\n",
       "    .dataframe thead th {\n",
       "        text-align: right;\n",
       "    }\n",
       "</style>\n",
       "<table border=\"1\" class=\"dataframe\">\n",
       "  <thead>\n",
       "    <tr style=\"text-align: right;\">\n",
       "      <th></th>\n",
       "      <th>Air Pollution Index</th>\n",
       "      <th>Humidity</th>\n",
       "      <th>Wind Speed</th>\n",
       "      <th>Wind Direction</th>\n",
       "      <th>Visibility (miles)</th>\n",
       "      <th>Dew Point</th>\n",
       "      <th>Temperature</th>\n",
       "      <th>Rain_p_h</th>\n",
       "      <th>Snow_p_h</th>\n",
       "      <th>Clouds_all</th>\n",
       "      <th>Traffic</th>\n",
       "    </tr>\n",
       "  </thead>\n",
       "  <tbody>\n",
       "    <tr>\n",
       "      <td>count</td>\n",
       "      <td>33750.000000</td>\n",
       "      <td>33750.000000</td>\n",
       "      <td>33750.000000</td>\n",
       "      <td>33750.000000</td>\n",
       "      <td>33750.000000</td>\n",
       "      <td>33750.000000</td>\n",
       "      <td>33750.000000</td>\n",
       "      <td>33750.000000</td>\n",
       "      <td>33750.000000</td>\n",
       "      <td>33750.000000</td>\n",
       "      <td>33750.000000</td>\n",
       "    </tr>\n",
       "    <tr>\n",
       "      <td>mean</td>\n",
       "      <td>154.841422</td>\n",
       "      <td>71.209007</td>\n",
       "      <td>3.378193</td>\n",
       "      <td>199.471852</td>\n",
       "      <td>4.989748</td>\n",
       "      <td>4.989748</td>\n",
       "      <td>280.069587</td>\n",
       "      <td>0.448739</td>\n",
       "      <td>0.000318</td>\n",
       "      <td>50.458785</td>\n",
       "      <td>3240.118163</td>\n",
       "    </tr>\n",
       "    <tr>\n",
       "      <td>std</td>\n",
       "      <td>83.735515</td>\n",
       "      <td>16.852248</td>\n",
       "      <td>2.055792</td>\n",
       "      <td>99.841088</td>\n",
       "      <td>2.570021</td>\n",
       "      <td>2.570021</td>\n",
       "      <td>13.415256</td>\n",
       "      <td>53.526500</td>\n",
       "      <td>0.009760</td>\n",
       "      <td>38.871734</td>\n",
       "      <td>1991.487289</td>\n",
       "    </tr>\n",
       "    <tr>\n",
       "      <td>min</td>\n",
       "      <td>10.000000</td>\n",
       "      <td>13.000000</td>\n",
       "      <td>0.000000</td>\n",
       "      <td>0.000000</td>\n",
       "      <td>1.000000</td>\n",
       "      <td>1.000000</td>\n",
       "      <td>0.000000</td>\n",
       "      <td>0.000000</td>\n",
       "      <td>0.000000</td>\n",
       "      <td>0.000000</td>\n",
       "      <td>0.000000</td>\n",
       "    </tr>\n",
       "    <tr>\n",
       "      <td>25%</td>\n",
       "      <td>83.000000</td>\n",
       "      <td>60.000000</td>\n",
       "      <td>2.000000</td>\n",
       "      <td>130.000000</td>\n",
       "      <td>3.000000</td>\n",
       "      <td>3.000000</td>\n",
       "      <td>271.720000</td>\n",
       "      <td>0.000000</td>\n",
       "      <td>0.000000</td>\n",
       "      <td>1.000000</td>\n",
       "      <td>1165.250000</td>\n",
       "    </tr>\n",
       "    <tr>\n",
       "      <td>50%</td>\n",
       "      <td>155.000000</td>\n",
       "      <td>72.000000</td>\n",
       "      <td>3.000000</td>\n",
       "      <td>200.000000</td>\n",
       "      <td>5.000000</td>\n",
       "      <td>5.000000</td>\n",
       "      <td>280.150000</td>\n",
       "      <td>0.000000</td>\n",
       "      <td>0.000000</td>\n",
       "      <td>64.000000</td>\n",
       "      <td>3335.000000</td>\n",
       "    </tr>\n",
       "    <tr>\n",
       "      <td>75%</td>\n",
       "      <td>228.000000</td>\n",
       "      <td>85.000000</td>\n",
       "      <td>5.000000</td>\n",
       "      <td>290.000000</td>\n",
       "      <td>7.000000</td>\n",
       "      <td>7.000000</td>\n",
       "      <td>290.620000</td>\n",
       "      <td>0.000000</td>\n",
       "      <td>0.000000</td>\n",
       "      <td>90.000000</td>\n",
       "      <td>4926.000000</td>\n",
       "    </tr>\n",
       "    <tr>\n",
       "      <td>max</td>\n",
       "      <td>299.000000</td>\n",
       "      <td>100.000000</td>\n",
       "      <td>16.000000</td>\n",
       "      <td>360.000000</td>\n",
       "      <td>9.000000</td>\n",
       "      <td>9.000000</td>\n",
       "      <td>308.240000</td>\n",
       "      <td>9831.300000</td>\n",
       "      <td>0.510000</td>\n",
       "      <td>100.000000</td>\n",
       "      <td>7280.000000</td>\n",
       "    </tr>\n",
       "  </tbody>\n",
       "</table>\n",
       "</div>"
      ],
      "text/plain": [
       "       Air Pollution Index      Humidity    Wind Speed  Wind Direction  \\\n",
       "count         33750.000000  33750.000000  33750.000000    33750.000000   \n",
       "mean            154.841422     71.209007      3.378193      199.471852   \n",
       "std              83.735515     16.852248      2.055792       99.841088   \n",
       "min              10.000000     13.000000      0.000000        0.000000   \n",
       "25%              83.000000     60.000000      2.000000      130.000000   \n",
       "50%             155.000000     72.000000      3.000000      200.000000   \n",
       "75%             228.000000     85.000000      5.000000      290.000000   \n",
       "max             299.000000    100.000000     16.000000      360.000000   \n",
       "\n",
       "       Visibility (miles)     Dew Point   Temperature      Rain_p_h  \\\n",
       "count        33750.000000  33750.000000  33750.000000  33750.000000   \n",
       "mean             4.989748      4.989748    280.069587      0.448739   \n",
       "std              2.570021      2.570021     13.415256     53.526500   \n",
       "min              1.000000      1.000000      0.000000      0.000000   \n",
       "25%              3.000000      3.000000    271.720000      0.000000   \n",
       "50%              5.000000      5.000000    280.150000      0.000000   \n",
       "75%              7.000000      7.000000    290.620000      0.000000   \n",
       "max              9.000000      9.000000    308.240000   9831.300000   \n",
       "\n",
       "           Snow_p_h    Clouds_all       Traffic  \n",
       "count  33750.000000  33750.000000  33750.000000  \n",
       "mean       0.000318     50.458785   3240.118163  \n",
       "std        0.009760     38.871734   1991.487289  \n",
       "min        0.000000      0.000000      0.000000  \n",
       "25%        0.000000      1.000000   1165.250000  \n",
       "50%        0.000000     64.000000   3335.000000  \n",
       "75%        0.000000     90.000000   4926.000000  \n",
       "max        0.510000    100.000000   7280.000000  "
      ]
     },
     "execution_count": 3,
     "metadata": {},
     "output_type": "execute_result"
    }
   ],
   "source": [
    "data.describe()"
   ]
  },
  {
   "cell_type": "code",
   "execution_count": 4,
   "metadata": {},
   "outputs": [
    {
     "name": "stdout",
     "output_type": "stream",
     "text": [
      "<class 'pandas.core.frame.DataFrame'>\n",
      "RangeIndex: 33750 entries, 0 to 33749\n",
      "Data columns (total 14 columns):\n",
      "Date and Time          33750 non-null object\n",
      "Air Pollution Index    33750 non-null int64\n",
      "Humidity               33750 non-null int64\n",
      "Wind Speed             33750 non-null int64\n",
      "Wind Direction         33750 non-null int64\n",
      "Visibility (miles)     33750 non-null int64\n",
      "Dew Point              33750 non-null int64\n",
      "Temperature            33750 non-null float64\n",
      "Rain_p_h               33750 non-null float64\n",
      "Snow_p_h               33750 non-null float64\n",
      "Clouds_all             33750 non-null int64\n",
      "Weather Type           33750 non-null object\n",
      "Weather Description    33750 non-null object\n",
      "Traffic                33750 non-null int64\n",
      "dtypes: float64(3), int64(8), object(3)\n",
      "memory usage: 3.6+ MB\n"
     ]
    }
   ],
   "source": [
    "data.info()"
   ]
  },
  {
   "cell_type": "markdown",
   "metadata": {},
   "source": [
    "# NO NULL VALUES IN THE DATA SET."
   ]
  },
  {
   "cell_type": "markdown",
   "metadata": {},
   "source": [
    "# EDA , VISUALIZATION'S AND OUTLIER TREATMENT."
   ]
  },
  {
   "cell_type": "code",
   "execution_count": 5,
   "metadata": {},
   "outputs": [
    {
     "data": {
      "image/png": "[encoded data removed]",
      "text/plain": [
       "<Figure size 432x288 with 1 Axes>"
      ]
     },
     "metadata": {
      "needs_background": "light"
     },
     "output_type": "display_data"
    }
   ],
   "source": [
    "sns.boxplot(data['Air Pollution Index'])\n",
    "plt.show()"
   ]
  },
  {
   "cell_type": "markdown",
   "metadata": {},
   "source": [
    "NO OUTLIERS IN THE DATA, WE CAN LOOK AT THE DISTRIBUTION."
   ]
  },
  {
   "cell_type": "code",
   "execution_count": 6,
   "metadata": {},
   "outputs": [
    {
     "data": {
      "image/png": "[encoded data removed]",
      "text/plain": [
       "<Figure size 432x288 with 1 Axes>"
      ]
     },
     "metadata": {
      "needs_background": "light"
     },
     "output_type": "display_data"
    }
   ],
   "source": [
    "sns.distplot((data['Air Pollution Index']))\n",
    "plt.show()"
   ]
  },
  {
   "cell_type": "markdown",
   "metadata": {},
   "source": [
    "AS THE DISTRIBUTION IS PLATYKURTIC WE WILL USE THE LOG TRANSFORMATION TO MAKE IT A LITTLE BETTER."
   ]
  },
  {
   "cell_type": "code",
   "execution_count": 7,
   "metadata": {},
   "outputs": [],
   "source": [
    "data['Air Pollution Index'] = np.log(data['Air Pollution Index'])"
   ]
  },
  {
   "cell_type": "code",
   "execution_count": 8,
   "metadata": {},
   "outputs": [
    {
     "data": {
      "image/png": "[encoded data removed]",
      "text/plain": [
       "<Figure size 432x288 with 1 Axes>"
      ]
     },
     "metadata": {
      "needs_background": "light"
     },
     "output_type": "display_data"
    }
   ],
   "source": [
    "sns.boxplot(data['Humidity'])\n",
    "plt.show()"
   ]
  },
  {
   "cell_type": "markdown",
   "metadata": {},
   "source": [
    "WE WILL REMOVE THE OUTLIERS IN THE HUMIDITY COLUMN."
   ]
  },
  {
   "cell_type": "code",
   "execution_count": 9,
   "metadata": {},
   "outputs": [],
   "source": [
    "Q1 = np.quantile(data['Humidity'],0.25)\n",
    "Q3 = np.quantile(data['Humidity'],0.75)\n",
    "IQR = Q3-Q1\n",
    "UL = Q3 + 1.5* IQR\n",
    "LL = Q1 - 1.5* IQR"
   ]
  },
  {
   "cell_type": "code",
   "execution_count": 10,
   "metadata": {},
   "outputs": [],
   "source": [
    "data = data[(data['Humidity']>LL) & (data['Humidity']<UL)]"
   ]
  },
  {
   "cell_type": "code",
   "execution_count": 11,
   "metadata": {},
   "outputs": [
    {
     "data": {
      "image/png": "[encoded data removed]",
      "text/plain": [
       "<Figure size 432x288 with 1 Axes>"
      ]
     },
     "metadata": {
      "needs_background": "light"
     },
     "output_type": "display_data"
    }
   ],
   "source": [
    "sns.distplot(data['Humidity'])\n",
    "plt.show()"
   ]
  },
  {
   "cell_type": "markdown",
   "metadata": {},
   "source": [
    "IT IS NOT A TRUE NORMAL DISTRIBUTION , BUT IT IS ALMOST SO WE WILL JUST STICK WITH THE DISTRIBUTION."
   ]
  },
  {
   "cell_type": "code",
   "execution_count": 12,
   "metadata": {},
   "outputs": [
    {
     "data": {
      "image/png": "[encoded data removed]",
      "text/plain": [
       "<Figure size 432x288 with 1 Axes>"
      ]
     },
     "metadata": {
      "needs_background": "light"
     },
     "output_type": "display_data"
    }
   ],
   "source": [
    "sns.boxplot(data['Wind Speed'])\n",
    "plt.show()"
   ]
  },
  {
   "cell_type": "code",
   "execution_count": 13,
   "metadata": {},
   "outputs": [
    {
     "data": {
      "image/png": "[encoded data removed]",
      "text/plain": [
       "<Figure size 432x288 with 1 Axes>"
      ]
     },
     "metadata": {
      "needs_background": "light"
     },
     "output_type": "display_data"
    }
   ],
   "source": [
    "sns.distplot(data['Wind Speed'])\n",
    "plt.show()"
   ]
  },
  {
   "cell_type": "markdown",
   "metadata": {},
   "source": [
    "WE WILL CONSIDER WIND SPEED AS CATEGORICAL DATA, AS MOST OF THE VALUES ARE IN THE RANGE FROM 0-16"
   ]
  },
  {
   "cell_type": "code",
   "execution_count": 14,
   "metadata": {},
   "outputs": [
    {
     "data": {
      "text/plain": [
       "2     6584\n",
       "3     6536\n",
       "4     5224\n",
       "1     4992\n",
       "5     3849\n",
       "6     2498\n",
       "7     1333\n",
       "0     1326\n",
       "8      746\n",
       "9      355\n",
       "10     121\n",
       "11      52\n",
       "12      17\n",
       "13      10\n",
       "15       3\n",
       "14       1\n",
       "16       1\n",
       "Name: Wind Speed, dtype: int64"
      ]
     },
     "execution_count": 14,
     "metadata": {},
     "output_type": "execute_result"
    }
   ],
   "source": [
    "data['Wind Speed'].value_counts()"
   ]
  },
  {
   "cell_type": "code",
   "execution_count": 15,
   "metadata": {},
   "outputs": [
    {
     "data": {
      "image/png": "[encoded data removed]",
      "text/plain": [
       "<Figure size 432x288 with 1 Axes>"
      ]
     },
     "metadata": {
      "needs_background": "light"
     },
     "output_type": "display_data"
    }
   ],
   "source": [
    "sns.boxplot(data['Wind Direction'])\n",
    "plt.show()"
   ]
  },
  {
   "cell_type": "code",
   "execution_count": 16,
   "metadata": {},
   "outputs": [
    {
     "data": {
      "image/png": "[encoded data removed]",
      "text/plain": [
       "<Figure size 432x288 with 1 Axes>"
      ]
     },
     "metadata": {
      "needs_background": "light"
     },
     "output_type": "display_data"
    }
   ],
   "source": [
    "sns.distplot(data['Wind Direction'])\n",
    "plt.show()"
   ]
  },
  {
   "cell_type": "code",
   "execution_count": 17,
   "metadata": {},
   "outputs": [
    {
     "data": {
      "image/png": "[encoded data removed]",
      "text/plain": [
       "<Figure size 432x288 with 1 Axes>"
      ]
     },
     "metadata": {
      "needs_background": "light"
     },
     "output_type": "display_data"
    }
   ],
   "source": [
    "sns.boxplot(data['Visibility (miles)'])\n",
    "plt.show()"
   ]
  },
  {
   "cell_type": "code",
   "execution_count": 18,
   "metadata": {},
   "outputs": [
    {
     "data": {
      "image/png": "[encoded data removed]",
      "text/plain": [
       "<Figure size 432x288 with 1 Axes>"
      ]
     },
     "metadata": {
      "needs_background": "light"
     },
     "output_type": "display_data"
    }
   ],
   "source": [
    "sns.distplot(data['Visibility (miles)'])\n",
    "plt.show()"
   ]
  },
  {
   "cell_type": "markdown",
   "metadata": {},
   "source": [
    "AGAIN WE WILL CONSIDER THE DATA POINTS IN THE VISIBILITY (MILES) AS CATEGORICAL. AND WE WILL DROP THE DEW POINT COLUMN AS BOTH THE DEW POINT AND THE VISIBILITY COLUMNS HAVE THE SAME VALUE."
   ]
  },
  {
   "cell_type": "code",
   "execution_count": 19,
   "metadata": {},
   "outputs": [],
   "source": [
    "data.drop('Dew Point',axis = 1,inplace = True)"
   ]
  },
  {
   "cell_type": "code",
   "execution_count": 20,
   "metadata": {},
   "outputs": [
    {
     "data": {
      "image/png": "[encoded data removed]",
      "text/plain": [
       "<Figure size 432x288 with 1 Axes>"
      ]
     },
     "metadata": {
      "needs_background": "light"
     },
     "output_type": "display_data"
    }
   ],
   "source": [
    "sns.boxplot(data['Temperature'])\n",
    "plt.show()"
   ]
  },
  {
   "cell_type": "markdown",
   "metadata": {},
   "source": [
    "WE WILL REMOVE THE OUTLIERS IN THE TEMPERATURE COLUMN."
   ]
  },
  {
   "cell_type": "code",
   "execution_count": 21,
   "metadata": {},
   "outputs": [],
   "source": [
    "Q1 = np.quantile(data['Temperature'],0.25)\n",
    "Q3 = np.quantile(data['Temperature'],0.75)\n",
    "IQR = Q3-Q1\n",
    "UL = Q3 + 1.5* IQR\n",
    "LL = Q1 - 1.5* IQR"
   ]
  },
  {
   "cell_type": "code",
   "execution_count": 22,
   "metadata": {},
   "outputs": [],
   "source": [
    "data = data[(data['Temperature']>LL) & (data['Temperature']<UL)]"
   ]
  },
  {
   "cell_type": "code",
   "execution_count": 23,
   "metadata": {},
   "outputs": [
    {
     "data": {
      "image/png": "[encoded data removed]",
      "text/plain": [
       "<Figure size 432x288 with 1 Axes>"
      ]
     },
     "metadata": {
      "needs_background": "light"
     },
     "output_type": "display_data"
    }
   ],
   "source": [
    "sns.distplot(data['Temperature'])\n",
    "plt.show()"
   ]
  },
  {
   "cell_type": "markdown",
   "metadata": {},
   "source": [
    "THOUGH WE HAVE A BI-MODAL PLOT, EVEN AFTER TRYING TO TRANSFORM THE DATA STILLS STAYS BI-MODAL, SO WE WILL STICK TO THE CURRENT DISTRIBUTION."
   ]
  },
  {
   "cell_type": "code",
   "execution_count": 24,
   "metadata": {},
   "outputs": [
    {
     "data": {
      "image/png": "[encoded data removed]",
      "text/plain": [
       "<Figure size 432x288 with 1 Axes>"
      ]
     },
     "metadata": {
      "needs_background": "light"
     },
     "output_type": "display_data"
    }
   ],
   "source": [
    "sns.boxplot(data['Rain_p_h'])\n",
    "plt.show()"
   ]
  },
  {
   "cell_type": "code",
   "execution_count": 25,
   "metadata": {},
   "outputs": [
    {
     "data": {
      "image/png": "[encoded data removed]",
      "text/plain": [
       "<Figure size 432x288 with 1 Axes>"
      ]
     },
     "metadata": {
      "needs_background": "light"
     },
     "output_type": "display_data"
    }
   ],
   "source": [
    "sns.boxplot(data['Snow_p_h'])\n",
    "plt.show()"
   ]
  },
  {
   "cell_type": "markdown",
   "metadata": {},
   "source": [
    "IF WE LOOK AT THE VALUE COUNTS OF EACH OF THE COLUMNS, WE CAN UNDERSTAND WHY THESE BOXPLOTS ARE IN THIS MANNER."
   ]
  },
  {
   "cell_type": "code",
   "execution_count": 26,
   "metadata": {},
   "outputs": [
    {
     "data": {
      "text/plain": [
       "0.00    33575\n",
       "0.05       14\n",
       "0.06       12\n",
       "0.10        6\n",
       "0.13        6\n",
       "0.51        6\n",
       "0.25        6\n",
       "0.32        5\n",
       "0.17        3\n",
       "0.08        2\n",
       "0.44        2\n",
       "0.21        1\n",
       "Name: Snow_p_h, dtype: int64"
      ]
     },
     "execution_count": 26,
     "metadata": {},
     "output_type": "execute_result"
    }
   ],
   "source": [
    "data['Snow_p_h'].value_counts()"
   ]
  },
  {
   "cell_type": "code",
   "execution_count": 27,
   "metadata": {},
   "outputs": [
    {
     "data": {
      "text/plain": [
       "0.00    30884\n",
       "0.25      679\n",
       "0.51      241\n",
       "0.30      119\n",
       "0.76       97\n",
       "        ...  \n",
       "3.12        1\n",
       "1.53        1\n",
       "2.34        1\n",
       "0.92        1\n",
       "2.13        1\n",
       "Name: Rain_p_h, Length: 353, dtype: int64"
      ]
     },
     "execution_count": 27,
     "metadata": {},
     "output_type": "execute_result"
    }
   ],
   "source": [
    "data['Rain_p_h'].value_counts()"
   ]
  },
  {
   "cell_type": "markdown",
   "metadata": {},
   "source": [
    "AFTER LOOKING AT THE VALUE COUNTS MOST OF THE VALUES IN THE DATA ARE ZERO, IN WHICH CASE THE MACHINE CANT LEARN ANYTHING FROM BOTH THESE COLUMNS, SO WE WILL JUST DIS-REGARD THESE COLUMNS."
   ]
  },
  {
   "cell_type": "code",
   "execution_count": 28,
   "metadata": {},
   "outputs": [],
   "source": [
    "data.drop(['Snow_p_h','Rain_p_h'],axis = 1,inplace = True)"
   ]
  },
  {
   "cell_type": "code",
   "execution_count": 29,
   "metadata": {},
   "outputs": [
    {
     "data": {
      "image/png": "[encoded data removed]",
      "text/plain": [
       "<Figure size 432x288 with 1 Axes>"
      ]
     },
     "metadata": {
      "needs_background": "light"
     },
     "output_type": "display_data"
    }
   ],
   "source": [
    "sns.boxplot(data['Clouds_all'])\n",
    "plt.show()"
   ]
  },
  {
   "cell_type": "code",
   "execution_count": 30,
   "metadata": {},
   "outputs": [
    {
     "data": {
      "image/png": "[encoded data removed]",
      "text/plain": [
       "<Figure size 432x288 with 1 Axes>"
      ]
     },
     "metadata": {
      "needs_background": "light"
     },
     "output_type": "display_data"
    }
   ],
   "source": [
    "sns.distplot(data['Clouds_all'])\n",
    "plt.show()"
   ]
  },
  {
   "cell_type": "markdown",
   "metadata": {},
   "source": [
    "WE DONT REALLY UNDERSTAND WHAT THE COLUMN \"CLOUDS_ALL\" STANDS FOR , WE NEED SOME DOMAIN KNOWLEDGE HERE, SO WE WILL STICK WITH THE COLUMN AS OF NOW."
   ]
  },
  {
   "cell_type": "markdown",
   "metadata": {},
   "source": [
    "PLEASE ALSO SEE THE TABLEAU FILE FOR SOME GOOD INSIGHTS ABOUT THE OTHER COLUMNS LIKE AIR POLLUTION INDEX , HUMIDITY,WIND DIRECTION, WEATHER DESCRIPTION AND WIND SPEED."
   ]
  },
  {
   "cell_type": "code",
   "execution_count": 31,
   "metadata": {},
   "outputs": [],
   "source": [
    "data.drop(['Air Pollution Index','Humidity','Clouds_all','Wind Direction','Weather Description'],axis = 1,inplace = True)"
   ]
  },
  {
   "cell_type": "code",
   "execution_count": 32,
   "metadata": {},
   "outputs": [
    {
     "data": {
      "image/png": "[encoded data removed]",
      "text/plain": [
       "<Figure size 432x288 with 2 Axes>"
      ]
     },
     "metadata": {
      "needs_background": "light"
     },
     "output_type": "display_data"
    }
   ],
   "source": [
    "sns.heatmap(data.corr(),annot = True)\n",
    "plt.show()"
   ]
  },
  {
   "cell_type": "markdown",
   "metadata": {},
   "source": [
    "ALMOST ALL THE FEATURE'S NO CO-RELATION WITH EACH OTHER OR WITH THE TARGET, WE WONT DIS REGARD ANY FEATURES NOW BUT AFTER STATISTICAL ANALYSIS AND MODELLING WE WILL LOOK AT THE IMPORTANT FEATURES AND THEN STICK OR REMOVE THE FEATURES."
   ]
  },
  {
   "cell_type": "markdown",
   "metadata": {},
   "source": [
    "# FEATURE ENGINEERING."
   ]
  },
  {
   "cell_type": "markdown",
   "metadata": {},
   "source": [
    "WE HAVE A DATE AND TIME COLUMN, WE CAN CREATE NEW COLUMNS SUCH AS DAY , MONTH, YEAR, AND HOUR WHICH GIVES US 4 NEW COLUMNS AND WE CAN DROP THE DATE AND TIME COLUMN."
   ]
  },
  {
   "cell_type": "code",
   "execution_count": 33,
   "metadata": {},
   "outputs": [],
   "source": [
    "data['Date and Time'] = pd.to_datetime(data['Date and Time'])\n",
    "data['Year'] = data['Date and Time'].dt.year\n",
    "data['Month'] = data['Date and Time'].dt.month\n",
    "data['Day'] = data['Date and Time'].dt.day\n",
    "data['Hour'] = data['Date and Time'].dt.hour\n",
    "data.drop('Date and Time',axis = 1,inplace = True)"
   ]
  },
  {
   "cell_type": "code",
   "execution_count": 34,
   "metadata": {},
   "outputs": [
    {
     "data": {
      "text/html": [
       "<div>\n",
       "<style scoped>\n",
       "    .dataframe tbody tr th:only-of-type {\n",
       "        vertical-align: middle;\n",
       "    }\n",
       "\n",
       "    .dataframe tbody tr th {\n",
       "        vertical-align: top;\n",
       "    }\n",
       "\n",
       "    .dataframe thead th {\n",
       "        text-align: right;\n",
       "    }\n",
       "</style>\n",
       "<table border=\"1\" class=\"dataframe\">\n",
       "  <thead>\n",
       "    <tr style=\"text-align: right;\">\n",
       "      <th></th>\n",
       "      <th>Wind Speed</th>\n",
       "      <th>Visibility (miles)</th>\n",
       "      <th>Temperature</th>\n",
       "      <th>Weather Type</th>\n",
       "      <th>Traffic</th>\n",
       "      <th>Year</th>\n",
       "      <th>Month</th>\n",
       "      <th>Day</th>\n",
       "      <th>Hour</th>\n",
       "    </tr>\n",
       "  </thead>\n",
       "  <tbody>\n",
       "    <tr>\n",
       "      <td>0</td>\n",
       "      <td>2</td>\n",
       "      <td>1</td>\n",
       "      <td>288.28</td>\n",
       "      <td>Clouds</td>\n",
       "      <td>5545</td>\n",
       "      <td>2012</td>\n",
       "      <td>2</td>\n",
       "      <td>10</td>\n",
       "      <td>9</td>\n",
       "    </tr>\n",
       "    <tr>\n",
       "      <td>1</td>\n",
       "      <td>3</td>\n",
       "      <td>1</td>\n",
       "      <td>289.36</td>\n",
       "      <td>Clouds</td>\n",
       "      <td>4516</td>\n",
       "      <td>2012</td>\n",
       "      <td>2</td>\n",
       "      <td>10</td>\n",
       "      <td>10</td>\n",
       "    </tr>\n",
       "    <tr>\n",
       "      <td>2</td>\n",
       "      <td>3</td>\n",
       "      <td>2</td>\n",
       "      <td>289.58</td>\n",
       "      <td>Clouds</td>\n",
       "      <td>4767</td>\n",
       "      <td>2012</td>\n",
       "      <td>2</td>\n",
       "      <td>10</td>\n",
       "      <td>11</td>\n",
       "    </tr>\n",
       "    <tr>\n",
       "      <td>3</td>\n",
       "      <td>3</td>\n",
       "      <td>5</td>\n",
       "      <td>290.13</td>\n",
       "      <td>Clouds</td>\n",
       "      <td>5026</td>\n",
       "      <td>2012</td>\n",
       "      <td>2</td>\n",
       "      <td>10</td>\n",
       "      <td>12</td>\n",
       "    </tr>\n",
       "    <tr>\n",
       "      <td>4</td>\n",
       "      <td>3</td>\n",
       "      <td>7</td>\n",
       "      <td>291.14</td>\n",
       "      <td>Clouds</td>\n",
       "      <td>4918</td>\n",
       "      <td>2012</td>\n",
       "      <td>2</td>\n",
       "      <td>10</td>\n",
       "      <td>13</td>\n",
       "    </tr>\n",
       "  </tbody>\n",
       "</table>\n",
       "</div>"
      ],
      "text/plain": [
       "   Wind Speed  Visibility (miles)  Temperature Weather Type  Traffic  Year  \\\n",
       "0           2                   1       288.28       Clouds     5545  2012   \n",
       "1           3                   1       289.36       Clouds     4516  2012   \n",
       "2           3                   2       289.58       Clouds     4767  2012   \n",
       "3           3                   5       290.13       Clouds     5026  2012   \n",
       "4           3                   7       291.14       Clouds     4918  2012   \n",
       "\n",
       "   Month  Day  Hour  \n",
       "0      2   10     9  \n",
       "1      2   10    10  \n",
       "2      2   10    11  \n",
       "3      2   10    12  \n",
       "4      2   10    13  "
      ]
     },
     "execution_count": 34,
     "metadata": {},
     "output_type": "execute_result"
    }
   ],
   "source": [
    "data.head()"
   ]
  },
  {
   "cell_type": "markdown",
   "metadata": {},
   "source": [
    "# STATISTICAL ANALYSIS."
   ]
  },
  {
   "cell_type": "markdown",
   "metadata": {},
   "source": [
    "WE WANT TO CHECK IF THERE IS ANY RELATIONSHIP BETWEEN SEASONALITY AND OUR TRAFFIC VOLUME."
   ]
  },
  {
   "cell_type": "code",
   "execution_count": 35,
   "metadata": {},
   "outputs": [],
   "source": [
    "Spring = data['Traffic'][(data['Month']>=3) & (data['Month']<6)]\n",
    "summer = data['Traffic'][(data['Month']>=6) & (data['Month']<9)]\n",
    "fall = data['Traffic'][(data['Month']>=9) & (data['Month']<12)]\n",
    "winter = data['Traffic'][(data['Month']==12) | (data['Month']<3)]"
   ]
  },
  {
   "cell_type": "raw",
   "metadata": {},
   "source": [
    "H0 : values are same\n",
    "Ha : values are not same"
   ]
  },
  {
   "cell_type": "code",
   "execution_count": 36,
   "metadata": {},
   "outputs": [
    {
     "data": {
      "text/plain": [
       "F_onewayResult(statistic=19.262032227711696, pvalue=1.7885180706271804e-12)"
      ]
     },
     "execution_count": 36,
     "metadata": {},
     "output_type": "execute_result"
    }
   ],
   "source": [
    "f_oneway(Spring,summer,fall,winter)"
   ]
  },
  {
   "cell_type": "markdown",
   "metadata": {},
   "source": [
    "CLEARLY THE P-VALUE IS < 0.05 SO WE WILL REJECT THE NULL HYPOTHESIS STATING THAT THERE IS A RELATIONSHIP WITH SEASONALITY AND OUR TARGET VARIABLE METRO TRAFFIC."
   ]
  },
  {
   "cell_type": "markdown",
   "metadata": {},
   "source": [
    "LET US SEE HOW THE RELATIONSHIP IS WITH EACH WEATHER TYPE AND OUR TARGET."
   ]
  },
  {
   "cell_type": "code",
   "execution_count": 37,
   "metadata": {},
   "outputs": [],
   "source": [
    "clouds = data['Traffic'][data['Weather Type'] == 'Clouds']\n",
    "clear = data['Traffic'][data['Weather Type'] == 'Clear']\n",
    "mist = data['Traffic'][data['Weather Type'] == 'Mist']\n",
    "rain = data['Traffic'][data['Weather Type'] == 'Rain']\n",
    "snow = data['Traffic'][data['Weather Type'] == 'Snow']\n",
    "drizzle = data['Traffic'][data['Weather Type'] == 'Drizzle']\n",
    "haze = data['Traffic'][data['Weather Type'] == 'Haze']\n",
    "fog = data['Traffic'][data['Weather Type'] == 'Fog']\n",
    "thunderstorm = data['Traffic'][data['Weather Type'] == 'Thunderstorm']\n",
    "smoke = data['Traffic'][data['Weather Type'] == 'Smoke']\n",
    "squall = data['Traffic'][data['Weather Type'] == 'Squall']"
   ]
  },
  {
   "cell_type": "code",
   "execution_count": 38,
   "metadata": {},
   "outputs": [
    {
     "data": {
      "text/plain": [
       "F_onewayResult(statistic=46.420921547726465, pvalue=8.998288681204043e-93)"
      ]
     },
     "execution_count": 38,
     "metadata": {},
     "output_type": "execute_result"
    }
   ],
   "source": [
    "f_oneway(clouds,clear,mist,rain,snow,drizzle,haze,fog,thunderstorm,smoke,squall)"
   ]
  },
  {
   "cell_type": "raw",
   "metadata": {},
   "source": [
    "H0 : The means are same for the traffic irrespective of weather type\n",
    "Ha : The means are different for the traffic irrespective of weather type"
   ]
  },
  {
   "cell_type": "markdown",
   "metadata": {},
   "source": [
    "Clearly P_Value < 0.05 we will reject the null hypothesis and we will say that there is a significant change in traffic w.r.t the weather type."
   ]
  },
  {
   "cell_type": "code",
   "execution_count": 39,
   "metadata": {},
   "outputs": [
    {
     "data": {
      "image/png": "[encoded data removed]",
      "text/plain": [
       "<Figure size 432x288 with 1 Axes>"
      ]
     },
     "metadata": {
      "needs_background": "light"
     },
     "output_type": "display_data"
    }
   ],
   "source": [
    "pd.pivot_table(data = data,columns = ['Year'],values = 'Traffic').plot(kind = 'bar')\n",
    "plt.show()"
   ]
  },
  {
   "cell_type": "markdown",
   "metadata": {},
   "source": [
    "ALMOST THE AVERAGE TRAFFIC IN EACH YEAR IS THE SAME , BUT WE HAVE TO CHECK THE VALUES STATISTICALLY BY DOING THE TEST OF MEAN FOR MORE THAN TWO SAMPLES, WHICH IS ANOVA-TEST."
   ]
  },
  {
   "cell_type": "code",
   "execution_count": 40,
   "metadata": {},
   "outputs": [],
   "source": [
    "one = data['Traffic'][data['Year'] == 2012]\n",
    "two = data['Traffic'][data['Year'] == 2013]\n",
    "three = data['Traffic'][data['Year'] == 2014]\n",
    "four = data['Traffic'][data['Year'] == 2015]\n",
    "five = data['Traffic'][data['Year'] == 2016]\n",
    "six = data['Traffic'][data['Year'] == 2017]"
   ]
  },
  {
   "cell_type": "markdown",
   "metadata": {},
   "source": [
    "CHECKING IF THE TRAFFIC VOLUME HAS ANY TYPE OF RELATIONSHIP WITH THE YEAR'S."
   ]
  },
  {
   "cell_type": "code",
   "execution_count": 41,
   "metadata": {},
   "outputs": [
    {
     "data": {
      "text/plain": [
       "F_onewayResult(statistic=4.639769140192883, pvalue=0.000310211353975309)"
      ]
     },
     "execution_count": 41,
     "metadata": {},
     "output_type": "execute_result"
    }
   ],
   "source": [
    "f_oneway(one,two,three,four,five,six)"
   ]
  },
  {
   "cell_type": "raw",
   "metadata": {},
   "source": [
    "H0 : Traffic volume is same \n",
    "Ha : Traffic volume is not same"
   ]
  },
  {
   "cell_type": "markdown",
   "metadata": {},
   "source": [
    "P_Value < 0.05 ,we reject the Null hypothesis"
   ]
  },
  {
   "cell_type": "markdown",
   "metadata": {},
   "source": [
    "SPLITTING THE DATA INTO X AND Y WITH SPLIT SIZE 0.8/0.2"
   ]
  },
  {
   "cell_type": "code",
   "execution_count": 42,
   "metadata": {},
   "outputs": [],
   "source": [
    "X = data.drop('Traffic',axis = 1)\n",
    "y = data['Traffic']"
   ]
  },
  {
   "cell_type": "code",
   "execution_count": 43,
   "metadata": {},
   "outputs": [
    {
     "data": {
      "text/html": [
       "<div>\n",
       "<style scoped>\n",
       "    .dataframe tbody tr th:only-of-type {\n",
       "        vertical-align: middle;\n",
       "    }\n",
       "\n",
       "    .dataframe tbody tr th {\n",
       "        vertical-align: top;\n",
       "    }\n",
       "\n",
       "    .dataframe thead th {\n",
       "        text-align: right;\n",
       "    }\n",
       "</style>\n",
       "<table border=\"1\" class=\"dataframe\">\n",
       "  <thead>\n",
       "    <tr style=\"text-align: right;\">\n",
       "      <th></th>\n",
       "      <th>Wind Speed</th>\n",
       "      <th>Visibility (miles)</th>\n",
       "      <th>Temperature</th>\n",
       "      <th>Year</th>\n",
       "      <th>Month</th>\n",
       "      <th>Day</th>\n",
       "      <th>Hour</th>\n",
       "      <th>Weather Type_Clouds</th>\n",
       "      <th>Weather Type_Drizzle</th>\n",
       "      <th>Weather Type_Fog</th>\n",
       "      <th>Weather Type_Haze</th>\n",
       "      <th>Weather Type_Mist</th>\n",
       "      <th>Weather Type_Rain</th>\n",
       "      <th>Weather Type_Smoke</th>\n",
       "      <th>Weather Type_Snow</th>\n",
       "      <th>Weather Type_Squall</th>\n",
       "      <th>Weather Type_Thunderstorm</th>\n",
       "    </tr>\n",
       "  </thead>\n",
       "  <tbody>\n",
       "    <tr>\n",
       "      <td>0</td>\n",
       "      <td>2</td>\n",
       "      <td>1</td>\n",
       "      <td>288.28</td>\n",
       "      <td>2012</td>\n",
       "      <td>2</td>\n",
       "      <td>10</td>\n",
       "      <td>9</td>\n",
       "      <td>1</td>\n",
       "      <td>0</td>\n",
       "      <td>0</td>\n",
       "      <td>0</td>\n",
       "      <td>0</td>\n",
       "      <td>0</td>\n",
       "      <td>0</td>\n",
       "      <td>0</td>\n",
       "      <td>0</td>\n",
       "      <td>0</td>\n",
       "    </tr>\n",
       "    <tr>\n",
       "      <td>1</td>\n",
       "      <td>3</td>\n",
       "      <td>1</td>\n",
       "      <td>289.36</td>\n",
       "      <td>2012</td>\n",
       "      <td>2</td>\n",
       "      <td>10</td>\n",
       "      <td>10</td>\n",
       "      <td>1</td>\n",
       "      <td>0</td>\n",
       "      <td>0</td>\n",
       "      <td>0</td>\n",
       "      <td>0</td>\n",
       "      <td>0</td>\n",
       "      <td>0</td>\n",
       "      <td>0</td>\n",
       "      <td>0</td>\n",
       "      <td>0</td>\n",
       "    </tr>\n",
       "    <tr>\n",
       "      <td>2</td>\n",
       "      <td>3</td>\n",
       "      <td>2</td>\n",
       "      <td>289.58</td>\n",
       "      <td>2012</td>\n",
       "      <td>2</td>\n",
       "      <td>10</td>\n",
       "      <td>11</td>\n",
       "      <td>1</td>\n",
       "      <td>0</td>\n",
       "      <td>0</td>\n",
       "      <td>0</td>\n",
       "      <td>0</td>\n",
       "      <td>0</td>\n",
       "      <td>0</td>\n",
       "      <td>0</td>\n",
       "      <td>0</td>\n",
       "      <td>0</td>\n",
       "    </tr>\n",
       "    <tr>\n",
       "      <td>3</td>\n",
       "      <td>3</td>\n",
       "      <td>5</td>\n",
       "      <td>290.13</td>\n",
       "      <td>2012</td>\n",
       "      <td>2</td>\n",
       "      <td>10</td>\n",
       "      <td>12</td>\n",
       "      <td>1</td>\n",
       "      <td>0</td>\n",
       "      <td>0</td>\n",
       "      <td>0</td>\n",
       "      <td>0</td>\n",
       "      <td>0</td>\n",
       "      <td>0</td>\n",
       "      <td>0</td>\n",
       "      <td>0</td>\n",
       "      <td>0</td>\n",
       "    </tr>\n",
       "    <tr>\n",
       "      <td>4</td>\n",
       "      <td>3</td>\n",
       "      <td>7</td>\n",
       "      <td>291.14</td>\n",
       "      <td>2012</td>\n",
       "      <td>2</td>\n",
       "      <td>10</td>\n",
       "      <td>13</td>\n",
       "      <td>1</td>\n",
       "      <td>0</td>\n",
       "      <td>0</td>\n",
       "      <td>0</td>\n",
       "      <td>0</td>\n",
       "      <td>0</td>\n",
       "      <td>0</td>\n",
       "      <td>0</td>\n",
       "      <td>0</td>\n",
       "      <td>0</td>\n",
       "    </tr>\n",
       "  </tbody>\n",
       "</table>\n",
       "</div>"
      ],
      "text/plain": [
       "   Wind Speed  Visibility (miles)  Temperature  Year  Month  Day  Hour  \\\n",
       "0           2                   1       288.28  2012      2   10     9   \n",
       "1           3                   1       289.36  2012      2   10    10   \n",
       "2           3                   2       289.58  2012      2   10    11   \n",
       "3           3                   5       290.13  2012      2   10    12   \n",
       "4           3                   7       291.14  2012      2   10    13   \n",
       "\n",
       "   Weather Type_Clouds  Weather Type_Drizzle  Weather Type_Fog  \\\n",
       "0                    1                     0                 0   \n",
       "1                    1                     0                 0   \n",
       "2                    1                     0                 0   \n",
       "3                    1                     0                 0   \n",
       "4                    1                     0                 0   \n",
       "\n",
       "   Weather Type_Haze  Weather Type_Mist  Weather Type_Rain  \\\n",
       "0                  0                  0                  0   \n",
       "1                  0                  0                  0   \n",
       "2                  0                  0                  0   \n",
       "3                  0                  0                  0   \n",
       "4                  0                  0                  0   \n",
       "\n",
       "   Weather Type_Smoke  Weather Type_Snow  Weather Type_Squall  \\\n",
       "0                   0                  0                    0   \n",
       "1                   0                  0                    0   \n",
       "2                   0                  0                    0   \n",
       "3                   0                  0                    0   \n",
       "4                   0                  0                    0   \n",
       "\n",
       "   Weather Type_Thunderstorm  \n",
       "0                          0  \n",
       "1                          0  \n",
       "2                          0  \n",
       "3                          0  \n",
       "4                          0  "
      ]
     },
     "execution_count": 43,
     "metadata": {},
     "output_type": "execute_result"
    }
   ],
   "source": [
    "X = pd.get_dummies(data = X,columns = ['Weather Type'],drop_first = True)\n",
    "X.head()"
   ]
  },
  {
   "cell_type": "code",
   "execution_count": 44,
   "metadata": {},
   "outputs": [],
   "source": [
    "X_train,X_test,y_train,y_test = train_test_split(X,y,test_size = 0.2,random_state = 100)"
   ]
  },
  {
   "cell_type": "markdown",
   "metadata": {},
   "source": [
    "# ASSUMPTIONS OF LINEAR REGRESSION."
   ]
  },
  {
   "cell_type": "markdown",
   "metadata": {},
   "source": [
    "# LINEARITY OF VARIABLES."
   ]
  },
  {
   "cell_type": "code",
   "execution_count": 45,
   "metadata": {},
   "outputs": [
    {
     "data": {
      "image/png": "[encoded data removed]",
      "text/plain": [
       "<Figure size 180x180 with 1 Axes>"
      ]
     },
     "metadata": {
      "needs_background": "light"
     },
     "output_type": "display_data"
    }
   ],
   "source": [
    "sns.pairplot(x_vars=['Temperature'],y_vars =['Traffic'],data = data)\n",
    "plt.show()"
   ]
  },
  {
   "cell_type": "markdown",
   "metadata": {},
   "source": [
    "CLEARLY THERE IS NO LINEAR RELATIONSHIP WITH IN THE VARIABLES."
   ]
  },
  {
   "cell_type": "markdown",
   "metadata": {},
   "source": [
    "# MEAN OF RESIDUALS."
   ]
  },
  {
   "cell_type": "code",
   "execution_count": 46,
   "metadata": {},
   "outputs": [
    {
     "name": "stdout",
     "output_type": "stream",
     "text": [
      "The mean of the residuals is 13.982384061942932\n"
     ]
    }
   ],
   "source": [
    "lr.fit(X_train,y_train)\n",
    "y_pred = lr.predict(X_test)\n",
    "residuals = y_pred-y_test\n",
    "mean_of_residuals = np.mean(residuals)\n",
    "print(f\"The mean of the residuals is {mean_of_residuals}\")"
   ]
  },
  {
   "cell_type": "markdown",
   "metadata": {},
   "source": [
    "CLEARLY THE MEAN OF THE RESIDUALS IS NOT ZERO."
   ]
  },
  {
   "cell_type": "markdown",
   "metadata": {},
   "source": [
    "# HOMOSCEDASTICITY."
   ]
  },
  {
   "cell_type": "code",
   "execution_count": 47,
   "metadata": {},
   "outputs": [
    {
     "data": {
      "text/plain": [
       "[('F statistic', 0.9849381524417482), ('p-value', 0.6696702281436132)]"
      ]
     },
     "execution_count": 47,
     "metadata": {},
     "output_type": "execute_result"
    }
   ],
   "source": [
    "name = ['F statistic', 'p-value']\n",
    "test = sms.het_goldfeldquandt(residuals,X_test)\n",
    "lzip(name, test)"
   ]
  },
  {
   "cell_type": "markdown",
   "metadata": {},
   "source": [
    "- H0: Error terms are homoscedastic\n",
    "- Ha: Error terms are not homoscedastic\n",
    "    \n",
    "p-value > 0.05 fail to reject null hypothesis, error terms are homoscedastic"
   ]
  },
  {
   "cell_type": "markdown",
   "metadata": {},
   "source": [
    "IT PASSES THE HOMO SCEDASTICITY TEST."
   ]
  },
  {
   "cell_type": "markdown",
   "metadata": {},
   "source": [
    "# TEST OF NORMALITY OF THE RESIDUALS."
   ]
  },
  {
   "cell_type": "code",
   "execution_count": 48,
   "metadata": {},
   "outputs": [
    {
     "data": {
      "image/png": "[encoded data removed]",
      "text/plain": [
       "<Figure size 432x288 with 1 Axes>"
      ]
     },
     "metadata": {
      "needs_background": "light"
     },
     "output_type": "display_data"
    }
   ],
   "source": [
    "p = sns.distplot(residuals,kde=True)\n",
    "p = plt.title('Normality of error terms/residuals')"
   ]
  },
  {
   "cell_type": "markdown",
   "metadata": {},
   "source": [
    "THE DISTRIBUTION CLEARLY SHOW'S THAT THE RESIDUALS ARE NOT NORMALLY DISTRIBUTED,AND THE THIRD ASSUMPTION FAIL'S."
   ]
  },
  {
   "cell_type": "markdown",
   "metadata": {},
   "source": [
    "# AUTO-CORELATION"
   ]
  },
  {
   "cell_type": "code",
   "execution_count": 49,
   "metadata": {},
   "outputs": [
    {
     "data": {
      "text/plain": [
       "0.20503329211969662"
      ]
     },
     "execution_count": 49,
     "metadata": {},
     "output_type": "execute_result"
    }
   ],
   "source": [
    "min(diag.acorr_ljungbox(residuals , lags = 40)[1])"
   ]
  },
  {
   "cell_type": "markdown",
   "metadata": {},
   "source": [
    "- Ho: Auto correlation is absent\n",
    "- Ha: Auto correlation is present\n",
    "\n",
    "The P-value is >0.05 ,we fail to reject the null hypothesis, auto co relation is absent."
   ]
  },
  {
   "cell_type": "markdown",
   "metadata": {},
   "source": [
    "# MULTI-COLINEARITY"
   ]
  },
  {
   "cell_type": "code",
   "execution_count": 50,
   "metadata": {},
   "outputs": [
    {
     "data": {
      "text/html": [
       "<div>\n",
       "<style scoped>\n",
       "    .dataframe tbody tr th:only-of-type {\n",
       "        vertical-align: middle;\n",
       "    }\n",
       "\n",
       "    .dataframe tbody tr th {\n",
       "        vertical-align: top;\n",
       "    }\n",
       "\n",
       "    .dataframe thead th {\n",
       "        text-align: right;\n",
       "    }\n",
       "</style>\n",
       "<table border=\"1\" class=\"dataframe\">\n",
       "  <thead>\n",
       "    <tr style=\"text-align: right;\">\n",
       "      <th></th>\n",
       "      <th>VIF Factor</th>\n",
       "      <th>features</th>\n",
       "    </tr>\n",
       "  </thead>\n",
       "  <tbody>\n",
       "    <tr>\n",
       "      <td>0</td>\n",
       "      <td>3.738344</td>\n",
       "      <td>Wind Speed</td>\n",
       "    </tr>\n",
       "    <tr>\n",
       "      <td>1</td>\n",
       "      <td>4.772446</td>\n",
       "      <td>Visibility (miles)</td>\n",
       "    </tr>\n",
       "    <tr>\n",
       "      <td>2</td>\n",
       "      <td>577.224608</td>\n",
       "      <td>Temperature</td>\n",
       "    </tr>\n",
       "    <tr>\n",
       "      <td>3</td>\n",
       "      <td>584.998205</td>\n",
       "      <td>Year</td>\n",
       "    </tr>\n",
       "    <tr>\n",
       "      <td>4</td>\n",
       "      <td>4.514635</td>\n",
       "      <td>Month</td>\n",
       "    </tr>\n",
       "    <tr>\n",
       "      <td>5</td>\n",
       "      <td>4.152527</td>\n",
       "      <td>Day</td>\n",
       "    </tr>\n",
       "    <tr>\n",
       "      <td>6</td>\n",
       "      <td>3.804237</td>\n",
       "      <td>Hour</td>\n",
       "    </tr>\n",
       "    <tr>\n",
       "      <td>7</td>\n",
       "      <td>2.229979</td>\n",
       "      <td>Weather Type_Clouds</td>\n",
       "    </tr>\n",
       "    <tr>\n",
       "      <td>8</td>\n",
       "      <td>1.132619</td>\n",
       "      <td>Weather Type_Drizzle</td>\n",
       "    </tr>\n",
       "    <tr>\n",
       "      <td>9</td>\n",
       "      <td>1.067172</td>\n",
       "      <td>Weather Type_Fog</td>\n",
       "    </tr>\n",
       "    <tr>\n",
       "      <td>10</td>\n",
       "      <td>1.107219</td>\n",
       "      <td>Weather Type_Haze</td>\n",
       "    </tr>\n",
       "    <tr>\n",
       "      <td>11</td>\n",
       "      <td>1.457058</td>\n",
       "      <td>Weather Type_Mist</td>\n",
       "    </tr>\n",
       "    <tr>\n",
       "      <td>12</td>\n",
       "      <td>1.443982</td>\n",
       "      <td>Weather Type_Rain</td>\n",
       "    </tr>\n",
       "    <tr>\n",
       "      <td>13</td>\n",
       "      <td>1.002769</td>\n",
       "      <td>Weather Type_Smoke</td>\n",
       "    </tr>\n",
       "    <tr>\n",
       "      <td>14</td>\n",
       "      <td>1.307504</td>\n",
       "      <td>Weather Type_Snow</td>\n",
       "    </tr>\n",
       "    <tr>\n",
       "      <td>15</td>\n",
       "      <td>1.000643</td>\n",
       "      <td>Weather Type_Squall</td>\n",
       "    </tr>\n",
       "    <tr>\n",
       "      <td>16</td>\n",
       "      <td>1.073550</td>\n",
       "      <td>Weather Type_Thunderstorm</td>\n",
       "    </tr>\n",
       "  </tbody>\n",
       "</table>\n",
       "</div>"
      ],
      "text/plain": [
       "    VIF Factor                   features\n",
       "0     3.738344                 Wind Speed\n",
       "1     4.772446         Visibility (miles)\n",
       "2   577.224608                Temperature\n",
       "3   584.998205                       Year\n",
       "4     4.514635                      Month\n",
       "5     4.152527                        Day\n",
       "6     3.804237                       Hour\n",
       "7     2.229979        Weather Type_Clouds\n",
       "8     1.132619       Weather Type_Drizzle\n",
       "9     1.067172           Weather Type_Fog\n",
       "10    1.107219          Weather Type_Haze\n",
       "11    1.457058          Weather Type_Mist\n",
       "12    1.443982          Weather Type_Rain\n",
       "13    1.002769         Weather Type_Smoke\n",
       "14    1.307504          Weather Type_Snow\n",
       "15    1.000643        Weather Type_Squall\n",
       "16    1.073550  Weather Type_Thunderstorm"
      ]
     },
     "execution_count": 50,
     "metadata": {},
     "output_type": "execute_result"
    }
   ],
   "source": [
    "vif = pd.DataFrame()\n",
    "num = X.astype('float','int')\n",
    "vif[\"VIF Factor\"] = [variance_inflation_factor(num.values, i) for i in range(num.shape[1])]\n",
    "vif[\"features\"] = num.columns\n",
    "vif"
   ]
  },
  {
   "cell_type": "markdown",
   "metadata": {},
   "source": [
    "CLEARLY WHEN THE VIF VALUE IS > 5 WE CAN SAY THAT THERE IS MULTI COLINEARITY BETWEEN 2 VARIABLES,WE WILL REMOVE THE TEMPERATURE COLUMN AS IT MIGHT BE DEPENDENT ON THE CLOUDS_ALL COLUMN."
   ]
  },
  {
   "cell_type": "markdown",
   "metadata": {},
   "source": [
    "# FURTHUR MODELLING."
   ]
  },
  {
   "cell_type": "code",
   "execution_count": 51,
   "metadata": {},
   "outputs": [],
   "source": [
    "test_scores = []\n",
    "train_scores = []\n",
    "rmse_values = []\n",
    "r2 = []"
   ]
  },
  {
   "cell_type": "code",
   "execution_count": 52,
   "metadata": {},
   "outputs": [
    {
     "data": {
      "text/html": [
       "<table class=\"simpletable\">\n",
       "<caption>OLS Regression Results</caption>\n",
       "<tr>\n",
       "  <th>Dep. Variable:</th>         <td>Traffic</td>     <th>  R-squared:         </th>  <td>   0.140</td>  \n",
       "</tr>\n",
       "<tr>\n",
       "  <th>Model:</th>                   <td>OLS</td>       <th>  Adj. R-squared:    </th>  <td>   0.139</td>  \n",
       "</tr>\n",
       "<tr>\n",
       "  <th>Method:</th>             <td>Least Squares</td>  <th>  F-statistic:       </th>  <td>   321.6</td>  \n",
       "</tr>\n",
       "<tr>\n",
       "  <th>Date:</th>             <td>Thu, 12 Mar 2020</td> <th>  Prob (F-statistic):</th>   <td>  0.00</td>   \n",
       "</tr>\n",
       "<tr>\n",
       "  <th>Time:</th>                 <td>21:42:57</td>     <th>  Log-Likelihood:    </th> <td>-3.0071e+05</td>\n",
       "</tr>\n",
       "<tr>\n",
       "  <th>No. Observations:</th>      <td> 33638</td>      <th>  AIC:               </th>  <td>6.015e+05</td> \n",
       "</tr>\n",
       "<tr>\n",
       "  <th>Df Residuals:</th>          <td> 33620</td>      <th>  BIC:               </th>  <td>6.016e+05</td> \n",
       "</tr>\n",
       "<tr>\n",
       "  <th>Df Model:</th>              <td>    17</td>      <th>                     </th>      <td> </td>     \n",
       "</tr>\n",
       "<tr>\n",
       "  <th>Covariance Type:</th>      <td>nonrobust</td>    <th>                     </th>      <td> </td>     \n",
       "</tr>\n",
       "</table>\n",
       "<table class=\"simpletable\">\n",
       "<tr>\n",
       "              <td></td>                 <th>coef</th>     <th>std err</th>      <th>t</th>      <th>P>|t|</th>  <th>[0.025</th>    <th>0.975]</th>  \n",
       "</tr>\n",
       "<tr>\n",
       "  <th>const</th>                     <td> 2.079e+04</td> <td> 1.33e+04</td> <td>    1.560</td> <td> 0.119</td> <td>-5328.911</td> <td> 4.69e+04</td>\n",
       "</tr>\n",
       "<tr>\n",
       "  <th>Wind Speed</th>                <td>   18.9703</td> <td>    4.945</td> <td>    3.837</td> <td> 0.000</td> <td>    9.279</td> <td>   28.662</td>\n",
       "</tr>\n",
       "<tr>\n",
       "  <th>Visibility (miles)</th>        <td>    1.5456</td> <td>    3.919</td> <td>    0.394</td> <td> 0.693</td> <td>   -6.135</td> <td>    9.226</td>\n",
       "</tr>\n",
       "<tr>\n",
       "  <th>Temperature</th>               <td>   17.5817</td> <td>    0.866</td> <td>   20.299</td> <td> 0.000</td> <td>   15.884</td> <td>   19.279</td>\n",
       "</tr>\n",
       "<tr>\n",
       "  <th>Year</th>                      <td>  -11.7162</td> <td>    6.625</td> <td>   -1.769</td> <td> 0.077</td> <td>  -24.701</td> <td>    1.269</td>\n",
       "</tr>\n",
       "<tr>\n",
       "  <th>Month</th>                     <td>  -16.6235</td> <td>    2.933</td> <td>   -5.668</td> <td> 0.000</td> <td>  -22.372</td> <td>  -10.875</td>\n",
       "</tr>\n",
       "<tr>\n",
       "  <th>Day</th>                       <td>   -5.0376</td> <td>    1.148</td> <td>   -4.387</td> <td> 0.000</td> <td>   -7.288</td> <td>   -2.787</td>\n",
       "</tr>\n",
       "<tr>\n",
       "  <th>Hour</th>                      <td>   94.4594</td> <td>    1.470</td> <td>   64.241</td> <td> 0.000</td> <td>   91.577</td> <td>   97.341</td>\n",
       "</tr>\n",
       "<tr>\n",
       "  <th>Weather Type_Clouds</th>       <td>  361.4851</td> <td>   26.239</td> <td>   13.777</td> <td> 0.000</td> <td>  310.056</td> <td>  412.914</td>\n",
       "</tr>\n",
       "<tr>\n",
       "  <th>Weather Type_Drizzle</th>      <td>  106.3379</td> <td>   56.696</td> <td>    1.876</td> <td> 0.061</td> <td>   -4.788</td> <td>  217.464</td>\n",
       "</tr>\n",
       "<tr>\n",
       "  <th>Weather Type_Fog</th>          <td>   33.3539</td> <td>   80.323</td> <td>    0.415</td> <td> 0.678</td> <td> -124.082</td> <td>  190.790</td>\n",
       "</tr>\n",
       "<tr>\n",
       "  <th>Weather Type_Haze</th>         <td>  588.0139</td> <td>   64.766</td> <td>    9.079</td> <td> 0.000</td> <td>  461.070</td> <td>  714.958</td>\n",
       "</tr>\n",
       "<tr>\n",
       "  <th>Weather Type_Mist</th>         <td>   69.1900</td> <td>   35.085</td> <td>    1.972</td> <td> 0.049</td> <td>    0.422</td> <td>  137.958</td>\n",
       "</tr>\n",
       "<tr>\n",
       "  <th>Weather Type_Rain</th>         <td>  107.1264</td> <td>   35.406</td> <td>    3.026</td> <td> 0.002</td> <td>   37.729</td> <td>  176.524</td>\n",
       "</tr>\n",
       "<tr>\n",
       "  <th>Weather Type_Smoke</th>        <td> -241.3227</td> <td>  448.480</td> <td>   -0.538</td> <td> 0.591</td> <td>-1120.360</td> <td>  637.714</td>\n",
       "</tr>\n",
       "<tr>\n",
       "  <th>Weather Type_Snow</th>         <td>  200.7275</td> <td>   46.554</td> <td>    4.312</td> <td> 0.000</td> <td>  109.479</td> <td>  291.976</td>\n",
       "</tr>\n",
       "<tr>\n",
       "  <th>Weather Type_Squall</th>       <td>-1049.3095</td> <td>  923.573</td> <td>   -1.136</td> <td> 0.256</td> <td>-2859.544</td> <td>  760.925</td>\n",
       "</tr>\n",
       "<tr>\n",
       "  <th>Weather Type_Thunderstorm</th> <td> -400.5900</td> <td>   81.580</td> <td>   -4.910</td> <td> 0.000</td> <td> -560.489</td> <td> -240.691</td>\n",
       "</tr>\n",
       "</table>\n",
       "<table class=\"simpletable\">\n",
       "<tr>\n",
       "  <th>Omnibus:</th>       <td>15369.200</td> <th>  Durbin-Watson:     </th> <td>   0.248</td>\n",
       "</tr>\n",
       "<tr>\n",
       "  <th>Prob(Omnibus):</th>  <td> 0.000</td>   <th>  Jarque-Bera (JB):  </th> <td>1935.343</td>\n",
       "</tr>\n",
       "<tr>\n",
       "  <th>Skew:</th>           <td> 0.187</td>   <th>  Prob(JB):          </th> <td>    0.00</td>\n",
       "</tr>\n",
       "<tr>\n",
       "  <th>Kurtosis:</th>       <td> 1.886</td>   <th>  Cond. No.          </th> <td>2.69e+06</td>\n",
       "</tr>\n",
       "</table><br/><br/>Warnings:<br/>[1] Standard Errors assume that the covariance matrix of the errors is correctly specified.<br/>[2] The condition number is large, 2.69e+06. This might indicate that there are<br/>strong multicollinearity or other numerical problems."
      ],
      "text/plain": [
       "<class 'statsmodels.iolib.summary.Summary'>\n",
       "\"\"\"\n",
       "                            OLS Regression Results                            \n",
       "==============================================================================\n",
       "Dep. Variable:                Traffic   R-squared:                       0.140\n",
       "Model:                            OLS   Adj. R-squared:                  0.139\n",
       "Method:                 Least Squares   F-statistic:                     321.6\n",
       "Date:                Thu, 12 Mar 2020   Prob (F-statistic):               0.00\n",
       "Time:                        21:42:57   Log-Likelihood:            -3.0071e+05\n",
       "No. Observations:               33638   AIC:                         6.015e+05\n",
       "Df Residuals:                   33620   BIC:                         6.016e+05\n",
       "Df Model:                          17                                         \n",
       "Covariance Type:            nonrobust                                         \n",
       "=============================================================================================\n",
       "                                coef    std err          t      P>|t|      [0.025      0.975]\n",
       "---------------------------------------------------------------------------------------------\n",
       "const                      2.079e+04   1.33e+04      1.560      0.119   -5328.911    4.69e+04\n",
       "Wind Speed                   18.9703      4.945      3.837      0.000       9.279      28.662\n",
       "Visibility (miles)            1.5456      3.919      0.394      0.693      -6.135       9.226\n",
       "Temperature                  17.5817      0.866     20.299      0.000      15.884      19.279\n",
       "Year                        -11.7162      6.625     -1.769      0.077     -24.701       1.269\n",
       "Month                       -16.6235      2.933     -5.668      0.000     -22.372     -10.875\n",
       "Day                          -5.0376      1.148     -4.387      0.000      -7.288      -2.787\n",
       "Hour                         94.4594      1.470     64.241      0.000      91.577      97.341\n",
       "Weather Type_Clouds         361.4851     26.239     13.777      0.000     310.056     412.914\n",
       "Weather Type_Drizzle        106.3379     56.696      1.876      0.061      -4.788     217.464\n",
       "Weather Type_Fog             33.3539     80.323      0.415      0.678    -124.082     190.790\n",
       "Weather Type_Haze           588.0139     64.766      9.079      0.000     461.070     714.958\n",
       "Weather Type_Mist            69.1900     35.085      1.972      0.049       0.422     137.958\n",
       "Weather Type_Rain           107.1264     35.406      3.026      0.002      37.729     176.524\n",
       "Weather Type_Smoke         -241.3227    448.480     -0.538      0.591   -1120.360     637.714\n",
       "Weather Type_Snow           200.7275     46.554      4.312      0.000     109.479     291.976\n",
       "Weather Type_Squall       -1049.3095    923.573     -1.136      0.256   -2859.544     760.925\n",
       "Weather Type_Thunderstorm  -400.5900     81.580     -4.910      0.000    -560.489    -240.691\n",
       "==============================================================================\n",
       "Omnibus:                    15369.200   Durbin-Watson:                   0.248\n",
       "Prob(Omnibus):                  0.000   Jarque-Bera (JB):             1935.343\n",
       "Skew:                           0.187   Prob(JB):                         0.00\n",
       "Kurtosis:                       1.886   Cond. No.                     2.69e+06\n",
       "==============================================================================\n",
       "\n",
       "Warnings:\n",
       "[1] Standard Errors assume that the covariance matrix of the errors is correctly specified.\n",
       "[2] The condition number is large, 2.69e+06. This might indicate that there are\n",
       "strong multicollinearity or other numerical problems.\n",
       "\"\"\""
      ]
     },
     "execution_count": 52,
     "metadata": {},
     "output_type": "execute_result"
    }
   ],
   "source": [
    "X_sm = X\n",
    "X_sm = sm.add_constant(X_sm)\n",
    "lm = sm.OLS(y,X_sm).fit()\n",
    "lm.summary()"
   ]
  },
  {
   "cell_type": "markdown",
   "metadata": {},
   "source": [
    "# LINEAR REGRESSION"
   ]
  },
  {
   "cell_type": "code",
   "execution_count": 53,
   "metadata": {},
   "outputs": [
    {
     "name": "stdout",
     "output_type": "stream",
     "text": [
      "0.14127451422116177\n",
      "0.1335825233713036\n"
     ]
    }
   ],
   "source": [
    "lr.fit(X_train,y_train)\n",
    "y_pred = lr.predict(X_test)\n",
    "train_scores.append(lr.score(X_train,y_train))\n",
    "test_scores.append(lr.score(X_test,y_test))\n",
    "print(lr.score(X_train,y_train))\n",
    "print(lr.score(X_test,y_test))\n",
    "r2.append(r2_score(y_test,y_pred))\n",
    "rmse_values.append(np.sqrt(mean_squared_error(y_test,y_pred)))"
   ]
  },
  {
   "cell_type": "markdown",
   "metadata": {},
   "source": [
    "# DECISION TREE REGRESSOR"
   ]
  },
  {
   "cell_type": "code",
   "execution_count": 54,
   "metadata": {},
   "outputs": [
    {
     "name": "stdout",
     "output_type": "stream",
     "text": [
      "0.7688289819767794\n",
      "0.7757256359508802\n"
     ]
    }
   ],
   "source": [
    "X_train,X_test,y_train,y_test = train_test_split(X,y,test_size = 0.3,random_state = 209)\n",
    "params = {'max_depth':[1,2,3,4,5],'max_features':['log2','sqrt','auto']}\n",
    "Model = GridSearchCV(dtr,param_grid=params)\n",
    "Model.fit(X_train,y_train)\n",
    "y_pred = Model.predict(X_test)\n",
    "train_scores.append(Model.score(X_train,y_train))\n",
    "test_scores.append(Model.score(X_test,y_test))\n",
    "print(Model.score(X_train,y_train))\n",
    "print(Model.score(X_test,y_test))\n",
    "r2.append(r2_score(y_test,y_pred))\n",
    "rmse_values.append(np.sqrt(mean_squared_error(y_test,y_pred)))"
   ]
  },
  {
   "cell_type": "markdown",
   "metadata": {},
   "source": [
    "# EXTRA TREE REGRESSOR"
   ]
  },
  {
   "cell_type": "code",
   "execution_count": 55,
   "metadata": {},
   "outputs": [
    {
     "name": "stdout",
     "output_type": "stream",
     "text": [
      "0.6610198645090899\n",
      "0.6715122637849555\n"
     ]
    }
   ],
   "source": [
    "X_train,X_test,y_train,y_test = train_test_split(X,y,test_size = 0.3,random_state = 119)\n",
    "params = {'max_depth':[1,2,3,4,5],'max_features':['log2','sqrt','auto']}\n",
    "Model = GridSearchCV(etr,param_grid=params)\n",
    "Model.fit(X_train,y_train)\n",
    "y_pred = Model.predict(X_test)\n",
    "r2.append(r2_score(y_test,y_pred))\n",
    "rmse_values.append(np.sqrt(mean_squared_error(y_test,y_pred)))\n",
    "train_scores.append(Model.score(X_train,y_train))\n",
    "test_scores.append(Model.score(X_test,y_test))\n",
    "print(Model.score(X_train,y_train))\n",
    "print(Model.score(X_test,y_test))"
   ]
  },
  {
   "cell_type": "markdown",
   "metadata": {},
   "source": [
    "# ENSEMBLE TECHNIQUES"
   ]
  },
  {
   "cell_type": "markdown",
   "metadata": {},
   "source": [
    "# ADA BOOST REGRESSOR"
   ]
  },
  {
   "cell_type": "code",
   "execution_count": 56,
   "metadata": {},
   "outputs": [
    {
     "name": "stdout",
     "output_type": "stream",
     "text": [
      "0.7517789553722614\n",
      "0.7520748075877746\n"
     ]
    }
   ],
   "source": [
    "X_train,X_test,y_train,y_test = train_test_split(X,y,test_size = 0.3,random_state = 6)\n",
    "params = {'n_estimators':[50,100,150,200],'learning_rate':[0.1,0.5,1],'loss':['linear','square','exponential']}\n",
    "Model = GridSearchCV(abr,param_grid=params)\n",
    "Model.fit(X_train,y_train)\n",
    "y_pred = Model.predict(X_test)\n",
    "r2.append(r2_score(y_test,y_pred))\n",
    "rmse_values.append(np.sqrt(mean_squared_error(y_test,y_pred)))\n",
    "train_scores.append(Model.score(X_train,y_train))\n",
    "test_scores.append(Model.score(X_test,y_test))\n",
    "print(Model.score(X_train,y_train))\n",
    "print(Model.score(X_test,y_test))"
   ]
  },
  {
   "cell_type": "markdown",
   "metadata": {},
   "source": [
    "# ADA BOOST REGRESSOR WITH EXTRA TREE"
   ]
  },
  {
   "cell_type": "code",
   "execution_count": 57,
   "metadata": {},
   "outputs": [
    {
     "name": "stdout",
     "output_type": "stream",
     "text": [
      "0.7659347229052361\n",
      "0.7651981598351507\n"
     ]
    }
   ],
   "source": [
    "params = {'n_estimators':[50,100,150,200],'learning_rate':[0.1,0.5,1]}\n",
    "etr2 = ExtraTreeRegressor(max_depth = 5)\n",
    "abr2 = AdaBoostRegressor(etr2)\n",
    "Model = GridSearchCV(abr2,param_grid=params)\n",
    "Model.fit(X_train,y_train)\n",
    "y_pred = Model.predict(X_test)\n",
    "r2.append(r2_score(y_test,y_pred))\n",
    "rmse_values.append(np.sqrt(mean_squared_error(y_test,y_pred)))\n",
    "train_scores.append(Model.score(X_train,y_train))\n",
    "test_scores.append(Model.score(X_test,y_test))\n",
    "print(Model.score(X_train,y_train))\n",
    "print(Model.score(X_test,y_test))"
   ]
  },
  {
   "cell_type": "markdown",
   "metadata": {},
   "source": [
    "# GRADIENT BOOSTING REGRESSOR"
   ]
  },
  {
   "cell_type": "code",
   "execution_count": 58,
   "metadata": {},
   "outputs": [
    {
     "name": "stdout",
     "output_type": "stream",
     "text": [
      "0.8008047908993233\n",
      "0.7899536279763616\n"
     ]
    }
   ],
   "source": [
    "X_train,X_test,y_train,y_test = train_test_split(X,y,test_size = 0.3,random_state = 230)\n",
    "params = {'n_estimators':[100,150,200,250]}\n",
    "Model = GridSearchCV(gbr,param_grid=params)\n",
    "Model.fit(X_train,y_train)\n",
    "y_pred = Model.predict(X_test)\n",
    "r2.append(r2_score(y_test,y_pred))\n",
    "rmse_values.append(np.sqrt(mean_squared_error(y_test,y_pred)))\n",
    "train_scores.append(Model.score(X_train,y_train))\n",
    "test_scores.append(Model.score(X_test,y_test))\n",
    "print(Model.score(X_train,y_train))\n",
    "print(Model.score(X_test,y_test))"
   ]
  },
  {
   "cell_type": "code",
   "execution_count": 59,
   "metadata": {},
   "outputs": [
    {
     "data": {
      "text/plain": [
       "GradientBoostingRegressor(alpha=0.9, criterion='friedman_mse', init=None,\n",
       "                          learning_rate=0.1, loss='ls', max_depth=3,\n",
       "                          max_features=None, max_leaf_nodes=None,\n",
       "                          min_impurity_decrease=0.0, min_impurity_split=None,\n",
       "                          min_samples_leaf=1, min_samples_split=2,\n",
       "                          min_weight_fraction_leaf=0.0, n_estimators=250,\n",
       "                          n_iter_no_change=None, presort='auto',\n",
       "                          random_state=None, subsample=1.0, tol=0.0001,\n",
       "                          validation_fraction=0.1, verbose=0, warm_start=False)"
      ]
     },
     "execution_count": 59,
     "metadata": {},
     "output_type": "execute_result"
    }
   ],
   "source": [
    "Model.best_estimator_"
   ]
  },
  {
   "cell_type": "markdown",
   "metadata": {},
   "source": [
    "# EXTRA TREES REGRESSOR"
   ]
  },
  {
   "cell_type": "code",
   "execution_count": 60,
   "metadata": {},
   "outputs": [
    {
     "name": "stdout",
     "output_type": "stream",
     "text": [
      "0.703192401981283\n",
      "0.7066757157659795\n"
     ]
    }
   ],
   "source": [
    "X_train,X_test,y_train,y_test = train_test_split(X,y,test_size = 0.3,random_state = 91)\n",
    "params = {'n_estimators':[50,100,150,200],'max_depth':[1,2,3,4],'max_features':['auto','sqrt','log2']}\n",
    "Model = GridSearchCV(eetr,param_grid=params)\n",
    "Model.fit(X_train,y_train)\n",
    "y_pred = Model.predict(X_test)\n",
    "r2.append(r2_score(y_test,y_pred))\n",
    "rmse_values.append(np.sqrt(mean_squared_error(y_test,y_pred)))\n",
    "train_scores.append(Model.score(X_train,y_train))\n",
    "test_scores.append(Model.score(X_test,y_test))\n",
    "print(Model.score(X_train,y_train))\n",
    "print(Model.score(X_test,y_test))"
   ]
  },
  {
   "cell_type": "markdown",
   "metadata": {},
   "source": [
    "# BAGGING REGRESSOR"
   ]
  },
  {
   "cell_type": "code",
   "execution_count": 61,
   "metadata": {},
   "outputs": [
    {
     "name": "stdout",
     "output_type": "stream",
     "text": [
      "0.9763331566256815\n",
      "0.8112843059055146\n"
     ]
    }
   ],
   "source": [
    "X_train,X_test,y_train,y_test = train_test_split(X,y,test_size = 0.3,random_state = 243)\n",
    "params = {'n_estimators':[50,100,150,200]}\n",
    "Model = GridSearchCV(br,param_grid=params)\n",
    "Model.fit(X_train,y_train)\n",
    "y_pred = Model.predict(X_test)\n",
    "r2.append(r2_score(y_test,y_pred))\n",
    "rmse_values.append(np.sqrt(mean_squared_error(y_test,y_pred)))\n",
    "train_scores.append(Model.score(X_train,y_train))\n",
    "test_scores.append(Model.score(X_test,y_test))\n",
    "print(Model.score(X_train,y_train))\n",
    "print(Model.score(X_test,y_test))"
   ]
  },
  {
   "cell_type": "markdown",
   "metadata": {},
   "source": [
    "# BAGGING REGRESSOR WITH GRADIENT BOOST"
   ]
  },
  {
   "cell_type": "code",
   "execution_count": 62,
   "metadata": {},
   "outputs": [
    {
     "name": "stdout",
     "output_type": "stream",
     "text": [
      "0.792617896490712\n",
      "0.7761162599099803\n"
     ]
    }
   ],
   "source": [
    "X_train,X_test,y_train,y_test = train_test_split(X,y,test_size = 0.3,random_state = 243)\n",
    "params = {'n_estimators':[50,100,150,200]}\n",
    "br2  = BaggingRegressor(gbr)\n",
    "Model = GridSearchCV(br2,param_grid=params)\n",
    "Model.fit(X_train,y_train)\n",
    "y_pred = Model.predict(X_test)\n",
    "r2.append(r2_score(y_test,y_pred))\n",
    "rmse_values.append(np.sqrt(mean_squared_error(y_test,y_pred)))\n",
    "train_scores.append(Model.score(X_train,y_train))\n",
    "test_scores.append(Model.score(X_test,y_test))\n",
    "print(Model.score(X_train,y_train))\n",
    "print(Model.score(X_test,y_test))"
   ]
  },
  {
   "cell_type": "markdown",
   "metadata": {},
   "source": [
    "# RANDOM FOREST REGRESSOR"
   ]
  },
  {
   "cell_type": "code",
   "execution_count": 63,
   "metadata": {},
   "outputs": [
    {
     "name": "stdout",
     "output_type": "stream",
     "text": [
      "0.7675911190908973\n",
      "0.7703929513609704\n"
     ]
    }
   ],
   "source": [
    "X_train,X_test,y_train,y_test = train_test_split(X,y,test_size = 0.3,random_state = 40)\n",
    "params = {'n_estimators':[50,100,150,200],'max_depth':[1,2,3,4]}\n",
    "Model = GridSearchCV(rfr,param_grid=params)\n",
    "Model.fit(X_train,y_train)\n",
    "y_pred = Model.predict(X_test)\n",
    "r2.append(r2_score(y_test,y_pred))\n",
    "rmse_values.append(np.sqrt(mean_squared_error(y_test,y_pred)))\n",
    "train_scores.append(Model.score(X_train,y_train))\n",
    "test_scores.append(Model.score(X_test,y_test))\n",
    "print(Model.score(X_train,y_train))\n",
    "print(Model.score(X_test,y_test))"
   ]
  },
  {
   "cell_type": "markdown",
   "metadata": {},
   "source": [
    "# XTREME GRADIENT DESCENT"
   ]
  },
  {
   "cell_type": "code",
   "execution_count": 72,
   "metadata": {},
   "outputs": [
    {
     "name": "stdout",
     "output_type": "stream",
     "text": [
      "0.8884456534575684\n",
      "0.8314689843988083\n"
     ]
    }
   ],
   "source": [
    "X_train,X_test,y_train,y_test = train_test_split(X,y,test_size = 0.3,random_state = 40)\n",
    "xg.fit(X_train,y_train)\n",
    "y_pred = xg.predict(X_test)\n",
    "r2.append(r2_score(y_test,y_pred))\n",
    "rmse_values.append(np.sqrt(mean_squared_error(y_test,y_pred)))\n",
    "train_scores.append(xg.score(X_train,y_train))\n",
    "test_scores.append(xg.score(X_test,y_test))\n",
    "print(xg.score(X_train,y_train))\n",
    "print(xg.score(X_test,y_test))"
   ]
  },
  {
   "cell_type": "code",
   "execution_count": 73,
   "metadata": {},
   "outputs": [
    {
     "data": {
      "text/html": [
       "<div>\n",
       "<style scoped>\n",
       "    .dataframe tbody tr th:only-of-type {\n",
       "        vertical-align: middle;\n",
       "    }\n",
       "\n",
       "    .dataframe tbody tr th {\n",
       "        vertical-align: top;\n",
       "    }\n",
       "\n",
       "    .dataframe thead th {\n",
       "        text-align: right;\n",
       "    }\n",
       "</style>\n",
       "<table border=\"1\" class=\"dataframe\">\n",
       "  <thead>\n",
       "    <tr style=\"text-align: right;\">\n",
       "      <th></th>\n",
       "      <th>Model</th>\n",
       "      <th>Training_Score</th>\n",
       "      <th>Testing_Score</th>\n",
       "      <th>RMSE</th>\n",
       "    </tr>\n",
       "  </thead>\n",
       "  <tbody>\n",
       "    <tr>\n",
       "      <td>0</td>\n",
       "      <td>Linear Regression</td>\n",
       "      <td>0.141275</td>\n",
       "      <td>0.133583</td>\n",
       "      <td>1854.782828</td>\n",
       "    </tr>\n",
       "    <tr>\n",
       "      <td>1</td>\n",
       "      <td>Decision Tree</td>\n",
       "      <td>0.768829</td>\n",
       "      <td>0.775726</td>\n",
       "      <td>943.423028</td>\n",
       "    </tr>\n",
       "    <tr>\n",
       "      <td>2</td>\n",
       "      <td>Extra Tree</td>\n",
       "      <td>0.661020</td>\n",
       "      <td>0.671512</td>\n",
       "      <td>1144.913629</td>\n",
       "    </tr>\n",
       "    <tr>\n",
       "      <td>3</td>\n",
       "      <td>AdaBoost</td>\n",
       "      <td>0.751779</td>\n",
       "      <td>0.752075</td>\n",
       "      <td>993.014922</td>\n",
       "    </tr>\n",
       "    <tr>\n",
       "      <td>4</td>\n",
       "      <td>AdaBoost-Extra Tree</td>\n",
       "      <td>0.765935</td>\n",
       "      <td>0.765198</td>\n",
       "      <td>966.376128</td>\n",
       "    </tr>\n",
       "    <tr>\n",
       "      <td>5</td>\n",
       "      <td>Gradient Boost</td>\n",
       "      <td>0.800805</td>\n",
       "      <td>0.789954</td>\n",
       "      <td>913.942978</td>\n",
       "    </tr>\n",
       "    <tr>\n",
       "      <td>6</td>\n",
       "      <td>Extra Trees</td>\n",
       "      <td>0.703192</td>\n",
       "      <td>0.706676</td>\n",
       "      <td>1077.280823</td>\n",
       "    </tr>\n",
       "    <tr>\n",
       "      <td>7</td>\n",
       "      <td>Bagging</td>\n",
       "      <td>0.976333</td>\n",
       "      <td>0.811284</td>\n",
       "      <td>863.048544</td>\n",
       "    </tr>\n",
       "    <tr>\n",
       "      <td>8</td>\n",
       "      <td>Bagging-Gradient Boost</td>\n",
       "      <td>0.792618</td>\n",
       "      <td>0.776116</td>\n",
       "      <td>940.031683</td>\n",
       "    </tr>\n",
       "    <tr>\n",
       "      <td>9</td>\n",
       "      <td>Random Forest</td>\n",
       "      <td>0.767591</td>\n",
       "      <td>0.770393</td>\n",
       "      <td>954.595999</td>\n",
       "    </tr>\n",
       "    <tr>\n",
       "      <td>10</td>\n",
       "      <td>XG Boost</td>\n",
       "      <td>0.888446</td>\n",
       "      <td>0.831469</td>\n",
       "      <td>817.837313</td>\n",
       "    </tr>\n",
       "  </tbody>\n",
       "</table>\n",
       "</div>"
      ],
      "text/plain": [
       "                     Model  Training_Score  Testing_Score         RMSE\n",
       "0        Linear Regression        0.141275       0.133583  1854.782828\n",
       "1            Decision Tree        0.768829       0.775726   943.423028\n",
       "2               Extra Tree        0.661020       0.671512  1144.913629\n",
       "3                 AdaBoost        0.751779       0.752075   993.014922\n",
       "4      AdaBoost-Extra Tree        0.765935       0.765198   966.376128\n",
       "5           Gradient Boost        0.800805       0.789954   913.942978\n",
       "6              Extra Trees        0.703192       0.706676  1077.280823\n",
       "7                  Bagging        0.976333       0.811284   863.048544\n",
       "8   Bagging-Gradient Boost        0.792618       0.776116   940.031683\n",
       "9            Random Forest        0.767591       0.770393   954.595999\n",
       "10                XG Boost        0.888446       0.831469   817.837313"
      ]
     },
     "execution_count": 73,
     "metadata": {},
     "output_type": "execute_result"
    }
   ],
   "source": [
    "ALL_SCORES = pd.DataFrame({'Model':['Linear Regression','Decision Tree','Extra Tree','AdaBoost','AdaBoost-Extra Tree','Gradient Boost','Extra Trees','Bagging','Bagging-Gradient Boost','Random Forest','XG Boost'],'Training_Score':train_scores,'Testing_Score':test_scores,'RMSE':rmse_values})\n",
    "ALL_SCORES"
   ]
  },
  {
   "cell_type": "markdown",
   "metadata": {},
   "source": [
    "* OUR FINAL MODEL IS XGBOOST WITH THE LEAST RMSE VALUE."
   ]
  },
  {
   "cell_type": "markdown",
   "metadata": {},
   "source": [
    "# PREDICTING THE TEST VALUES:"
   ]
  },
  {
   "cell_type": "code",
   "execution_count": 74,
   "metadata": {},
   "outputs": [],
   "source": [
    "def prediction(test_values,Y_TEST):\n",
    "    from xgboost import XGBRegressor\n",
    "    xg = XGBRegressor()\n",
    "    from sklearn.metrics import mean_squared_error\n",
    "    from sklearn.metrics import r2_score\n",
    "    test_values.drop(['Dew Point','Snow_p_h','Rain_p_h','Air Pollution Index','Humidity','Clouds_all','Wind Speed','Wind Direction','Weather Description'],axis = 1,inplace = True)\n",
    "    test_values['Date and Time'] = pd.to_datetime(test_values['Date and Time'])\n",
    "    test_values['Year'] = test_values['Date and Time'].dt.year\n",
    "    test_values['Month'] = test_values['Date and Time'].dt.month\n",
    "    test_values['Day'] = test_values['Date and Time'].dt.day\n",
    "    test_values['Hour'] = test_values['Date and Time'].dt.hour\n",
    "    test_values.drop('Date and Time',axis = 1,inplace = True)\n",
    "    test_values = pd.get_dummies(data = test_values,columns = ['Weather Type'],drop_first = True)\n",
    "    final_model = XGBRegressor()\n",
    "    final_model.fit(X,y)  \n",
    "    #Please run all the cells before the \"FURTHUR MODELLING HEADING\"\n",
    "    #Here the X and y are the preprocessing data points of our training data.\n",
    "    final_results = final_model.predict(test_values)\n",
    "    RMSE = np.sqrt(mean_squared_error(Y_TEST,final_results))\n",
    "    print(\"The RMSE is: \".format(RMSE))\n",
    "    print(\"The R2_score is: \".format(r2_score(Y_TEST,final_results)))"
   ]
  },
  {
   "cell_type": "code",
   "execution_count": null,
   "metadata": {},
   "outputs": [],
   "source": []
  }
 ],
 "metadata": {
  "kernelspec": {
   "display_name": "Python 3",
   "language": "python",
   "name": "python3"
  },
  "language_info": {
   "codemirror_mode": {
    "name": "ipython",
    "version": 3
   },
   "file_extension": ".py",
   "mimetype": "text/x-python",
   "name": "python",
   "nbconvert_exporter": "python",
   "pygments_lexer": "ipython3",
   "version": "3.7.4"
  }
 },
 "nbformat": 4,
 "nbformat_minor": 2
}
